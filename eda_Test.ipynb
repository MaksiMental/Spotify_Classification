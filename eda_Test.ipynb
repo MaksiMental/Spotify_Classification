{
 "cells": [
  {
   "cell_type": "code",
   "execution_count": null,
   "metadata": {},
   "outputs": [],
   "source": [
    "from sklearn.model_selection import GridSearchCV\n",
    "from sklearn.model_selection import RandomizedSearchCV\n",
    "\n",
    "dtr_grid_search = GridSearchCV(dtr_pipe, dtr_param_grid, cv=5, verbose=2, n_jobs=-1)\n",
    "\n",
    "rf_rand_grid_search = RandomizedSearchCV(rf_pipe, rf_param_grid, cv=5, verbose=2, n_jobs=-1, n_iter=10)"
   ]
  },
  {
   "cell_type": "code",
   "execution_count": null,
   "metadata": {},
   "outputs": [],
   "source": [
    "#Fit DecisionTreeClassifier GridSearchCV\n",
    "dtr_grid_search.fit(X_res, y_res)"
   ]
  },
  {
   "cell_type": "code",
   "execution_count": null,
   "metadata": {},
   "outputs": [],
   "source": [
    "rf_rand_grid_search.fit(X_res, y_res)"
   ]
  },
  {
   "cell_type": "code",
   "execution_count": null,
   "metadata": {},
   "outputs": [],
   "source": [
    "# Best parameters and score for RandomForestClassifier\n",
    "print(rf_rand_grid_search.best_params_)\n",
    "print(rf_rand_grid_search.best_score_)\n",
    "\n",
    "\n",
    "from sklearn.model_selection import GridSearchCV\n",
    "from sklearn.model_selection import RandomizedSearchCV\n",
    "\n",
    "dtr_grid_search = GridSearchCV(dtr_pipe, dtr_param_grid, cv=5, verbose=2, n_jobs=-1)\n",
    "\n",
    "rf_rand_grid_search = RandomizedSearchCV(rf_pipe, rf_param_grid, cv=5, verbose=2, n_jobs=-1, n_iter=10)"
   ]
  }
 ],
 "metadata": {
  "language_info": {
   "name": "python"
  }
 },
 "nbformat": 4,
 "nbformat_minor": 2
}
