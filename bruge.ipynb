{
 "cells": [
  {
   "cell_type": "code",
   "execution_count": null,
   "metadata": {},
   "outputs": [],
   "source": [
    "# Define the voting classifier\n",
    "voting_clf = VotingClassifier(\n",
    "    estimators=[\n",
    "        ('dtr', dtr_pipe),\n",
    "        ('rf', rf_pipe),\n",
    "        ('brf', brf_pipe),\n",
    "    ]\n",
    ")\n",
    "\n",
    "# Fit the voting classifier\n",
    "voting_clf.fit(X_train, y_train)"
   ]
  },
  {
   "cell_type": "code",
   "execution_count": null,
   "metadata": {},
   "outputs": [],
   "source": [
    "for name, clf in voting_clf.named_estimators_.items():\n",
    "    print(name, \"=\", clf.score(X_test, y_test))\n"
   ]
  },
  {
   "cell_type": "code",
   "execution_count": null,
   "metadata": {},
   "outputs": [],
   "source": [
    "for score, name in zip(voting_clf.named_estimators_['rf'].named_steps['randomforestclassifier'].feature_importances_, X_train.columns):\n",
    "    print(round(score, 2), name)"
   ]
  },
  {
   "cell_type": "code",
   "execution_count": null,
   "metadata": {},
   "outputs": [],
   "source": [
    "# Generate predictions using cross_val_predict\n",
    "y_train_pred = cross_val_predict(voting_clf, X_train, y_train, cv=5)\n",
    "\n",
    "plt.rc('font', size=9)  # extra code – make the text smaller\n",
    "\n",
    "# Display the confusion matrix\n",
    "ConfusionMatrixDisplay.from_predictions(y_train, y_train_pred)\n",
    "plt.show()"
   ]
  }
 ],
 "metadata": {
  "language_info": {
   "name": "python"
  }
 },
 "nbformat": 4,
 "nbformat_minor": 2
}
